{
 "cells": [
  {
   "cell_type": "markdown",
   "metadata": {},
   "source": [
    "### ludown sample generation"
   ]
  },
  {
   "cell_type": "markdown",
   "metadata": {},
   "source": [
    "#### INCOMPLETE - not functional (yet)"
   ]
  },
  {
   "cell_type": "code",
   "execution_count": null,
   "metadata": {},
   "outputs": [],
   "source": [
    "Model = require('../out').Model\n",
    "Sample = require('../out').Sample\n",
    "textToSampleData = require('../out').textToSampleData"
   ]
  },
  {
   "cell_type": "code",
   "execution_count": null,
   "metadata": {},
   "outputs": [],
   "source": [
    "model = new Model();\n",
    "model.loadConfig Module('./TBD');"
   ]
  },
  {
   "cell_type": "code",
   "execution_count": null,
   "metadata": {},
   "outputs": [],
   "source": [
    "sampleTextComp = 'is the {@animal=aardvark} native to {@planet=mars}?';"
   ]
  },
  {
   "cell_type": "code",
   "execution_count": null,
   "metadata": {},
   "outputs": [],
   "source": [
    "sampleText = 'is the {@animal=aardvark} native to {@planet=mars}?';"
   ]
  },
  {
   "cell_type": "code",
   "execution_count": null,
   "metadata": {},
   "outputs": [],
   "source": [
    "parsedText = textToSampleData(sampleText);"
   ]
  },
  {
   "cell_type": "code",
   "execution_count": null,
   "metadata": {},
   "outputs": [],
   "source": [
    "sample = new Sample();\n",
    "sample.data = parsedText.sampleData;\n",
    "sample.toString();"
   ]
  },
  {
   "cell_type": "code",
   "execution_count": null,
   "metadata": {},
   "outputs": [],
   "source": [
    "model.initGenerators();"
   ]
  },
  {
   "cell_type": "code",
   "execution_count": null,
   "metadata": {},
   "outputs": [],
   "source": [
    "model.generators"
   ]
  },
  {
   "cell_type": "code",
   "execution_count": null,
   "metadata": {},
   "outputs": [],
   "source": [
    "model.generators['@animal']();"
   ]
  },
  {
   "cell_type": "code",
   "execution_count": null,
   "metadata": {},
   "outputs": [],
   "source": [
    "model.generators['@planet']();"
   ]
  },
  {
   "cell_type": "code",
   "execution_count": null,
   "metadata": {},
   "outputs": [],
   "source": [
    "sourceSample = new Sample();\n",
    "sourceSample.elements = parsedText.sampleElements;\n",
    "// console.log(sourceSample.data);\n",
    "generatedSampleData = model.generateVariationWithSampleData(sourceSample.data);\n",
    "// console.log(util.inspect(generatedSampleData, false, null))\n",
    "generatedSample = new Sample(generatedSampleData);\n",
    "generatedSample.generated = true;\n",
    "console.log(generatedSample.toString(false));"
   ]
  },
  {
   "cell_type": "code",
   "execution_count": null,
   "metadata": {},
   "outputs": [],
   "source": [
    "count = 7;\n",
    "for (let i = 0; i < count; i++) {\n",
    "    let generatedSampleData = model.generateVariationWithSampleData(sourceSample.data);\n",
    "    let sample = new Sample(generatedSampleData);\n",
    "    sample.generated = true;\n",
    "    console.log(sample.toString(false));\n",
    "}"
   ]
  },
  {
   "cell_type": "code",
   "execution_count": null,
   "metadata": {},
   "outputs": [],
   "source": []
  }
 ],
 "metadata": {
  "kernelspec": {
   "display_name": "Javascript (Node.js)",
   "language": "javascript",
   "name": "javascript"
  },
  "language_info": {
   "file_extension": ".js",
   "mimetype": "application/javascript",
   "name": "javascript",
   "version": "10.21.0"
  }
 },
 "nbformat": 4,
 "nbformat_minor": 2
}
